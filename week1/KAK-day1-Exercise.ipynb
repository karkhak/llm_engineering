{
 "cells": [
  {
   "cell_type": "markdown",
   "id": "54e6d40c-e164-456d-8852-80e298df51ab",
   "metadata": {},
   "source": [
    "# End of week 1 exercise\n",
    "\n",
    "To demonstrate your familiarity with OpenAI API, and also Ollama, build a tool that takes a technical question,  \n",
    "and responds with an explanation. This is a tool that you will be able to use yourself during the course!"
   ]
  },
  {
   "cell_type": "code",
   "execution_count": null,
   "id": "931a1a16-046a-4671-8e14-7bf2f6eead3f",
   "metadata": {},
   "outputs": [],
   "source": [
    "# imports\n",
    "import os\n",
    "import requests\n",
    "from dotenv import load_dotenv\n",
    "from bs4 import BeautifulSoup\n",
    "from IPython.display import Markdown, display\n",
    "from openai import OpenAI\n",
    "import ollama\n",
    "\n",
    "\n",
    "\n",
    "\n"
   ]
  },
  {
   "cell_type": "code",
   "execution_count": null,
   "id": "33e82db3-63a7-4387-96a4-b1e3a868291e",
   "metadata": {},
   "outputs": [],
   "source": [
    "# constants\n",
    "\n",
    "MODEL_GPT = 'gpt-4o-mini'\n",
    "MODEL_LLAMA = 'llama3.2'"
   ]
  },
  {
   "cell_type": "code",
   "execution_count": null,
   "id": "97487a72-8cf2-4ea8-840f-61a1f62aa9e5",
   "metadata": {},
   "outputs": [],
   "source": [
    "# set up environment - and load the API key\n",
    "# Load environment variables in a file called .env before executing this cell.\n",
    "\n",
    "load_dotenv(override=True)\n",
    "api_key = os.getenv('OPENAI_API_KEY')\n",
    "\n",
    "# Check the key\n",
    "\n",
    "if not api_key:\n",
    "    print(\"No API key was found - please head over to the troubleshooting notebook in this folder to identify & fix!\")\n",
    "elif not api_key.startswith(\"sk-proj-\"):\n",
    "    print(\"An API key was found, but it doesn't start sk-proj-; please check you're using the right key - see troubleshooting notebook\")\n",
    "elif api_key.strip() != api_key:\n",
    "    print(\"An API key was found, but it looks like it might have space or tab characters at the start or end - please remove them - see troubleshooting notebook\")\n",
    "else:\n",
    "    print(\"API key found!\")\n"
   ]
  },
  {
   "cell_type": "code",
   "execution_count": null,
   "id": "950e8360-5aaa-4d82-a637-21efed67a84f",
   "metadata": {},
   "outputs": [],
   "source": [
    "#Instantiate OpenAI\n",
    "openai = OpenAI()"
   ]
  },
  {
   "cell_type": "code",
   "execution_count": null,
   "id": "d43844bf-5ee1-4e19-ba35-6786f9498575",
   "metadata": {},
   "outputs": [],
   "source": [
    "#Test connection to OpenAI\n",
    "\n",
    "message = \"Hello, GPT, Can you tell me what is the average temperature in Masai Mara is during the month of July\"\n",
    "response = openai.chat.completions.create(model=MODEL_GPT, messages=[{\"role\":\"user\", \"content\":message}])\n",
    "print(response.choices[0].message.content)\n"
   ]
  },
  {
   "cell_type": "code",
   "execution_count": null,
   "id": "10d468e5-d189-4b82-aa99-5a6bb45a5eda",
   "metadata": {},
   "outputs": [],
   "source": [
    "#Test connection to ollama llama3.2\n",
    "\n",
    "#Load the llama3.2 model\n",
    "ollama.pull('llama3.2')\n",
    "message = \"Hello GPT, Can you tell me what is the average temperature in Masai Mara during the month of July\"\n",
    "response = ollama.generate(model=MODEL_LLAMA, prompt=\"Hello GPT, Can you tell me what is the average temperature in Masai Mara during the month of July\")\n",
    "print(response['response'])"
   ]
  },
  {
   "cell_type": "code",
   "execution_count": null,
   "id": "7ebf43fd-11ad-4663-b098-8f248a976e74",
   "metadata": {},
   "outputs": [],
   "source": [
    "#Setup the System Prompt \n",
    "system_prompt = \"\"\"You are a software architect and programming expert that can explain the logic of snippets of code written \n",
    "in any programming language and also provide a summary with links for additional information for technology architectures and products.\n",
    "Respond in Markdown and English.\"\"\"\n"
   ]
  },
  {
   "cell_type": "code",
   "execution_count": null,
   "id": "5499ba33-7e74-4ef7-8b52-8c3b5338eabe",
   "metadata": {},
   "outputs": [],
   "source": [
    "#Ask the user for input and use it as a user prompt\n",
    "user_input=\"\"\n",
    "messages= []\n",
    "while user_input != 'quit':\n",
    "    user_input = input(\"Enter something (type 'quit' to exit): \")\n",
    "    messages = [\n",
    "        {\"role\":\"system\", \"content\":system_prompt},\n",
    "        {\"role\":\"user\", \"content\":user_input}\n",
    "    ]\n",
    "    response = openai.chat.completions.create(model=MODEL_GPT, messages=messages)\n",
    "    #print(response.choices[0].message.content)\n",
    "    response = Markdown(response.choices[0].message.content)\n",
    "    display(response)\n",
    "\n",
    "    \n"
   ]
  },
  {
   "cell_type": "code",
   "execution_count": null,
   "id": "ae00ff1d-b4fd-4a13-a09b-e2b823d0bcc2",
   "metadata": {},
   "outputs": [],
   "source": [
    "#Doing the same with llama3.2\n",
    "user_input=\"\"\n",
    "while user_input != 'quit':\n",
    "    user_input = input(\"Enter a question for LLAMA AI (type 'quit' to exit): \")\n",
    "    response = ollama.generate(model=MODEL_LLAMA, prompt=user_input)\n",
    "    print(response['response'])\n",
    "    \n",
    "    \n",
    "    \n",
    "    \n",
    "    \n",
    "    "
   ]
  },
  {
   "cell_type": "code",
   "execution_count": null,
   "id": "b2e29a16-df94-4e59-aa1c-8d0983c176ad",
   "metadata": {},
   "outputs": [],
   "source": []
  }
 ],
 "metadata": {
  "kernelspec": {
   "display_name": "Python 3 (ipykernel)",
   "language": "python",
   "name": "python3"
  },
  "language_info": {
   "codemirror_mode": {
    "name": "ipython",
    "version": 3
   },
   "file_extension": ".py",
   "mimetype": "text/x-python",
   "name": "python",
   "nbconvert_exporter": "python",
   "pygments_lexer": "ipython3",
   "version": "3.11.13"
  }
 },
 "nbformat": 4,
 "nbformat_minor": 5
}
